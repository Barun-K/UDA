{
 "cells": [
  {
   "cell_type": "code",
   "execution_count": 1,
   "metadata": {},
   "outputs": [],
   "source": [
    "import pandas as pd\n",
    "import numpy as np"
   ]
  },
  {
   "cell_type": "code",
   "execution_count": 2,
   "metadata": {},
   "outputs": [
    {
     "name": "stdout",
     "output_type": "stream",
     "text": [
      "Requirement already satisfied: pymongo in c:\\programdata\\anaconda3\\lib\\site-packages (3.7.2)\n"
     ]
    },
    {
     "name": "stderr",
     "output_type": "stream",
     "text": [
      "You are using pip version 18.1, however version 19.0.3 is available.\n",
      "You should consider upgrading via the 'python -m pip install --upgrade pip' command.\n"
     ]
    }
   ],
   "source": [
    "!pip install pymongo"
   ]
  },
  {
   "cell_type": "code",
   "execution_count": 7,
   "metadata": {},
   "outputs": [],
   "source": [
    "import tweepy\n",
    "\n",
    "consumer_key = '4lKAZziSnPnoOVUIWA4H2fPhW' # Paste your keys here\n",
    "consumer_secret = 'CiM1KrUjV24RTsUsBQAZZOkJwMge0RjRj65ZJ3jmAwwtmJBNTk'\n",
    "\n",
    "access_token = '1098882877666836480-K3bdotckfeVZxcL7EMCppDxV7CT92P'\n",
    "access_secret = 'dfDGJgbcPOxsokqXrpUryTN9hNxPnHVCZ2FI5bwQ9hdVf'\n",
    "\n",
    "auth = tweepy.OAuthHandler(consumer_key, consumer_secret)\n",
    "auth.set_access_token(access_token, access_secret)\n",
    "# Access Twitter API\n",
    "api = tweepy.API(auth)"
   ]
  },
  {
   "cell_type": "markdown",
   "metadata": {},
   "source": [
    "## REST API\n",
    "- Search tweets from user timeline\n",
    "- Search tweets using a hashtag or search term"
   ]
  },
  {
   "cell_type": "code",
   "execution_count": 8,
   "metadata": {},
   "outputs": [
    {
     "data": {
      "text/plain": [
       "200"
      ]
     },
     "execution_count": 8,
     "metadata": {},
     "output_type": "execute_result"
    }
   ],
   "source": [
    "tweets_user = api.user_timeline('narendramodi',\n",
    "                                page = 1,\n",
    "                                count=200)\n",
    "len(tweets_user)"
   ]
  },
  {
   "cell_type": "code",
   "execution_count": null,
   "metadata": {},
   "outputs": [],
   "source": [
    "tweets = pd.DataFrame(columns=['id', 'created_at', 'likes',\n",
    "'retweets', 'text', 'source'])\n",
    "\n",
    "for page in \n",
    "tweets_user = api.user_timeline('narendramodi',\n",
    "                                page = page,\n",
    "                                count=200)\n",
    "for tweet in tweets_user:\n",
    "    curr_tweet = {'id': tweet.id,\n",
    "    'created_at': tweet.created_at,\n",
    "    'likes': tweet.favorite_count,\n",
    "    'retweets': tweet.retweet_count,\n",
    "    'text': tweet.text,\n",
    "    'source': tweet.source}\n",
    "tweets = tweets.append(curr_tweet, ignore_index=True)\n",
    "tweets.to_csv('modi_tweets.csv', index=False)\n",
    "tweets.head(2)"
   ]
  },
  {
   "cell_type": "code",
   "execution_count": 9,
   "metadata": {},
   "outputs": [
    {
     "data": {
      "text/plain": [
       "41"
      ]
     },
     "execution_count": 9,
     "metadata": {},
     "output_type": "execute_result"
    }
   ],
   "source": [
    "flipkart = api.search('#flipkart', count = 1000)\n",
    "len(flipkart)"
   ]
  },
  {
   "cell_type": "code",
   "execution_count": 10,
   "metadata": {},
   "outputs": [],
   "source": [
    "from pymongo import MongoClient\n",
    "client = MongoClient('localhost',27017)"
   ]
  },
  {
   "cell_type": "code",
   "execution_count": 11,
   "metadata": {},
   "outputs": [
    {
     "name": "stderr",
     "output_type": "stream",
     "text": [
      "C:\\ProgramData\\Anaconda3\\lib\\site-packages\\ipykernel_launcher.py:1: DeprecationWarning: database_names is deprecated. Use list_database_names instead.\n",
      "  \"\"\"Entry point for launching an IPython kernel.\n"
     ]
    },
    {
     "data": {
      "text/plain": [
       "['admin', 'config', 'local', 'tweets']"
      ]
     },
     "execution_count": 11,
     "metadata": {},
     "output_type": "execute_result"
    }
   ],
   "source": [
    "client.database_names()"
   ]
  },
  {
   "cell_type": "code",
   "execution_count": 12,
   "metadata": {},
   "outputs": [],
   "source": [
    "db = client.flipkart\n",
    "collection = db.test_tweets"
   ]
  },
  {
   "cell_type": "code",
   "execution_count": 13,
   "metadata": {},
   "outputs": [
    {
     "data": {
      "text/plain": [
       "<pymongo.results.InsertOneResult at 0x244e31a9ac8>"
      ]
     },
     "execution_count": 13,
     "metadata": {},
     "output_type": "execute_result"
    }
   ],
   "source": [
    "tweet = flipkart[0]._json\n",
    "collection.insert_one(tweet)"
   ]
  },
  {
   "cell_type": "code",
   "execution_count": 14,
   "metadata": {},
   "outputs": [
    {
     "name": "stdout",
     "output_type": "stream",
     "text": [
      "{'_id': ObjectId('5c83a8ea847be717f4cf9de8'), 'created_at': 'Sat Mar 09 11:20:46 +0000 2019', 'id': 1104341252307406853, 'id_str': '1104341252307406853', 'text': 'RT @Storefront_PWA: Here we come - top #eCommerce #PWAs! Discover the best implementations with outstanding results, introduced by brands s…', 'truncated': False, 'entities': {'hashtags': [{'text': 'eCommerce', 'indices': [39, 49]}, {'text': 'PWAs', 'indices': [50, 55]}], 'symbols': [], 'user_mentions': [{'screen_name': 'Storefront_PWA', 'name': 'Storefront Cloud', 'id': 1085121526624587776, 'id_str': '1085121526624587776', 'indices': [3, 18]}], 'urls': []}, 'metadata': {'iso_language_code': 'en', 'result_type': 'recent'}, 'source': '<a href=\"http://twitter.com/download/android\" rel=\"nofollow\">Twitter for Android</a>', 'in_reply_to_status_id': None, 'in_reply_to_status_id_str': None, 'in_reply_to_user_id': None, 'in_reply_to_user_id_str': None, 'in_reply_to_screen_name': None, 'user': {'id': 961932682493091840, 'id_str': '961932682493091840', 'name': 'Filip Rakowski', 'screen_name': 'filrakowski', 'location': 'Wrocław, Polska', 'description': 'Co-founder @VueStorefront  / Señor Frontend Developer @DivanteLtd /  Community Partner @vuejs / @VuejsPoland /  Speaker 🐋', 'url': 'https://t.co/0rjbLIetOw', 'entities': {'url': {'urls': [{'url': 'https://t.co/0rjbLIetOw', 'expanded_url': 'https://github.com/filrak', 'display_url': 'github.com/filrak', 'indices': [0, 23]}]}, 'description': {'urls': []}}, 'protected': False, 'followers_count': 1171, 'friends_count': 568, 'listed_count': 28, 'created_at': 'Fri Feb 09 11:59:58 +0000 2018', 'favourites_count': 6250, 'utc_offset': None, 'time_zone': None, 'geo_enabled': False, 'verified': False, 'statuses_count': 2178, 'lang': 'pl', 'contributors_enabled': False, 'is_translator': False, 'is_translation_enabled': False, 'profile_background_color': '000000', 'profile_background_image_url': 'http://abs.twimg.com/images/themes/theme1/bg.png', 'profile_background_image_url_https': 'https://abs.twimg.com/images/themes/theme1/bg.png', 'profile_background_tile': False, 'profile_image_url': 'http://pbs.twimg.com/profile_images/961933370048565249/tHK5ssm6_normal.jpg', 'profile_image_url_https': 'https://pbs.twimg.com/profile_images/961933370048565249/tHK5ssm6_normal.jpg', 'profile_banner_url': 'https://pbs.twimg.com/profile_banners/961932682493091840/1550329801', 'profile_link_color': '19CF86', 'profile_sidebar_border_color': '000000', 'profile_sidebar_fill_color': '000000', 'profile_text_color': '000000', 'profile_use_background_image': False, 'has_extended_profile': True, 'default_profile': False, 'default_profile_image': False, 'following': False, 'follow_request_sent': False, 'notifications': False, 'translator_type': 'none'}, 'geo': None, 'coordinates': None, 'place': None, 'contributors': None, 'retweeted_status': {'created_at': 'Sat Mar 09 11:06:11 +0000 2019', 'id': 1104337582492733440, 'id_str': '1104337582492733440', 'text': 'Here we come - top #eCommerce #PWAs! Discover the best implementations with outstanding results, introduced by bran… https://t.co/OztsAHPAme', 'truncated': True, 'entities': {'hashtags': [{'text': 'eCommerce', 'indices': [19, 29]}, {'text': 'PWAs', 'indices': [30, 35]}], 'symbols': [], 'user_mentions': [], 'urls': [{'url': 'https://t.co/OztsAHPAme', 'expanded_url': 'https://twitter.com/i/web/status/1104337582492733440', 'display_url': 'twitter.com/i/web/status/1…', 'indices': [117, 140]}]}, 'metadata': {'iso_language_code': 'en', 'result_type': 'recent'}, 'source': '<a href=\"http://www.hubspot.com/\" rel=\"nofollow\">HubSpot</a>', 'in_reply_to_status_id': None, 'in_reply_to_status_id_str': None, 'in_reply_to_user_id': None, 'in_reply_to_user_id_str': None, 'in_reply_to_screen_name': None, 'user': {'id': 1085121526624587776, 'id_str': '1085121526624587776', 'name': 'Storefront Cloud', 'screen_name': 'Storefront_PWA', 'location': '', 'description': 'Mobile-first #eCommerce Platform that helps you build an engaging user experience across all devices. Improve your #UX without making changes to the #backend.', 'url': None, 'entities': {'description': {'urls': []}}, 'protected': False, 'followers_count': 39, 'friends_count': 106, 'listed_count': 0, 'created_at': 'Tue Jan 15 10:28:27 +0000 2019', 'favourites_count': 104, 'utc_offset': None, 'time_zone': None, 'geo_enabled': False, 'verified': False, 'statuses_count': 27, 'lang': 'en', 'contributors_enabled': False, 'is_translator': False, 'is_translation_enabled': False, 'profile_background_color': 'F5F8FA', 'profile_background_image_url': None, 'profile_background_image_url_https': None, 'profile_background_tile': False, 'profile_image_url': 'http://pbs.twimg.com/profile_images/1085123134162915328/w0BS2X3o_normal.jpg', 'profile_image_url_https': 'https://pbs.twimg.com/profile_images/1085123134162915328/w0BS2X3o_normal.jpg', 'profile_banner_url': 'https://pbs.twimg.com/profile_banners/1085121526624587776/1547548703', 'profile_link_color': '1DA1F2', 'profile_sidebar_border_color': 'C0DEED', 'profile_sidebar_fill_color': 'DDEEF6', 'profile_text_color': '333333', 'profile_use_background_image': True, 'has_extended_profile': False, 'default_profile': True, 'default_profile_image': False, 'following': False, 'follow_request_sent': False, 'notifications': False, 'translator_type': 'none'}, 'geo': None, 'coordinates': None, 'place': None, 'contributors': None, 'is_quote_status': False, 'retweet_count': 1, 'favorite_count': 2, 'favorited': False, 'retweeted': False, 'possibly_sensitive': False, 'lang': 'en'}, 'is_quote_status': False, 'retweet_count': 1, 'favorite_count': 0, 'favorited': False, 'retweeted': False, 'lang': 'en'}\n"
     ]
    }
   ],
   "source": [
    "for tweet in collection.find():\n",
    "    print(tweet)"
   ]
  },
  {
   "cell_type": "code",
   "execution_count": 20,
   "metadata": {},
   "outputs": [],
   "source": [
    "for tweet in flipkart[1:]:\n",
    "    collection.insert_one(tweet._json)"
   ]
  },
  {
   "cell_type": "code",
   "execution_count": null,
   "metadata": {},
   "outputs": [
    {
     "name": "stdout",
     "output_type": "stream",
     "text": [
      "RT @KapilMishra_IND: Dear @RahulGandhi\n",
      "\n",
      "Status of #NiravModi\n",
      "\n",
      "Modi Govt - a fugitive \n",
      "ur Govt - Diamond king\n",
      "\n",
      "Modi Govt - looking for taxi…\n",
      "------------------\n",
      "RT @KapilMishra_IND: Dear @RahulGandhi\n",
      "\n",
      "Status of #NiravModi\n",
      "\n",
      "Modi Govt - a fugitive \n",
      "ur Govt - Diamond king\n",
      "\n",
      "Modi Govt - looking for taxi…\n",
      "------------------\n",
      "RT @KapilMishra_IND: Dear @RahulGandhi\n",
      "\n",
      "Status of #NiravModi\n",
      "\n",
      "Modi Govt - a fugitive \n",
      "ur Govt - Diamond king\n",
      "\n",
      "Modi Govt - looking for taxi…\n",
      "------------------\n",
      "RT @hvgoenka: The British took away our jewels and not returning them back.\n",
      "Now, the British have taken away our jeweller and not returning…\n",
      "------------------\n",
      "RT @KapilMishra_IND: Dear @RahulGandhi\n",
      "\n",
      "Status of #NiravModi\n",
      "\n",
      "Modi Govt - a fugitive \n",
      "ur Govt - Diamond king\n",
      "\n",
      "Modi Govt - looking for taxi…\n",
      "------------------\n",
      "RT @KapilMishra_IND: Dear @RahulGandhi\n",
      "\n",
      "Status of #NiravModi\n",
      "\n",
      "Modi Govt - a fugitive \n",
      "ur Govt - Diamond king\n",
      "\n",
      "Modi Govt - looking for taxi…\n",
      "------------------\n",
      "RT @hvgoenka: The British took away our jewels and not returning them back.\n",
      "Now, the British have taken away our jeweller and not returning…\n",
      "------------------\n",
      "RT @KapilMishra_IND: Dear @RahulGandhi\n",
      "\n",
      "Status of #NiravModi\n",
      "\n",
      "Modi Govt - a fugitive \n",
      "ur Govt - Diamond king\n",
      "\n",
      "Modi Govt - looking for taxi…\n",
      "------------------\n",
      "RT @Actor_Siddharth: One is Smeagol and one is Gollum. My precious! https://t.co/rlmCdHCVZO\n",
      "------------------\n",
      "RT @KapilMishra_IND: Dear @RahulGandhi\n",
      "\n",
      "Status of #NiravModi\n",
      "\n",
      "Modi Govt - a fugitive \n",
      "ur Govt - Diamond king\n",
      "\n",
      "Modi Govt - looking for taxi…\n",
      "------------------\n",
      "RT @KapilMishra_IND: Dear @RahulGandhi\n",
      "\n",
      "Status of #NiravModi\n",
      "\n",
      "Modi Govt - a fugitive \n",
      "ur Govt - Diamond king\n",
      "\n",
      "Modi Govt - looking for taxi…\n",
      "------------------\n",
      "RT @KapilMishra_IND: Dear @RahulGandhi\n",
      "\n",
      "Status of #NiravModi\n",
      "\n",
      "Modi Govt - a fugitive \n",
      "ur Govt - Diamond king\n",
      "\n",
      "Modi Govt - looking for taxi…\n",
      "------------------\n",
      "RT @KapilMishra_IND: Dear @RahulGandhi\n",
      "\n",
      "Status of #NiravModi\n",
      "\n",
      "Modi Govt - a fugitive \n",
      "ur Govt - Diamond king\n",
      "\n",
      "Modi Govt - looking for taxi…\n",
      "------------------\n",
      "RT @KapilMishra_IND: Dear @RahulGandhi\n",
      "\n",
      "Status of #NiravModi\n",
      "\n",
      "Modi Govt - a fugitive \n",
      "ur Govt - Diamond king\n",
      "\n",
      "Modi Govt - looking for taxi…\n",
      "------------------\n",
      "RT @SitaramYechury: It is no surprise considering that the so-called ‘Chowkidar’ exists only to help his cronies loot and scoot. This Modi…\n",
      "------------------\n",
      "RT @KapilMishra_IND: Dear @RahulGandhi\n",
      "\n",
      "Status of #NiravModi\n",
      "\n",
      "Modi Govt - a fugitive \n",
      "ur Govt - Diamond king\n",
      "\n",
      "Modi Govt - looking for taxi…\n",
      "------------------\n",
      "RT @hvgoenka: The British took away our jewels and not returning them back.\n",
      "Now, the British have taken away our jeweller and not returning…\n",
      "------------------\n",
      "RT @KapilMishra_IND: Dear @RahulGandhi\n",
      "\n",
      "Status of #NiravModi\n",
      "\n",
      "Modi Govt - a fugitive \n",
      "ur Govt - Diamond king\n",
      "\n",
      "Modi Govt - looking for taxi…\n",
      "------------------\n",
      "RT @hvgoenka: The British took away our jewels and not returning them back.\n",
      "Now, the British have taken away our jeweller and not returning…\n",
      "------------------\n",
      "RT @KapilMishra_IND: Dear @RahulGandhi\n",
      "\n",
      "Status of #NiravModi\n",
      "\n",
      "Modi Govt - a fugitive \n",
      "ur Govt - Diamond king\n",
      "\n",
      "Modi Govt - looking for taxi…\n",
      "------------------\n",
      "RT @KapilMishra_IND: Dear @RahulGandhi\n",
      "\n",
      "Status of #NiravModi\n",
      "\n",
      "Modi Govt - a fugitive \n",
      "ur Govt - Diamond king\n",
      "\n",
      "Modi Govt - looking for taxi…\n",
      "------------------\n",
      "RT @KapilMishra_IND: Dear @RahulGandhi\n",
      "\n",
      "Status of #NiravModi\n",
      "\n",
      "Modi Govt - a fugitive \n",
      "ur Govt - Diamond king\n",
      "\n",
      "Modi Govt - looking for taxi…\n",
      "------------------\n",
      "RT @KapilMishra_IND: Dear @RahulGandhi\n",
      "\n",
      "Status of #NiravModi\n",
      "\n",
      "Modi Govt - a fugitive \n",
      "ur Govt - Diamond king\n",
      "\n",
      "Modi Govt - looking for taxi…\n",
      "------------------\n",
      "RT @Actor_Siddharth: One is Smeagol and one is Gollum. My precious! https://t.co/rlmCdHCVZO\n",
      "------------------\n",
      "RT @KapilMishra_IND: Dear @RahulGandhi\n",
      "\n",
      "Status of #NiravModi\n",
      "\n",
      "Modi Govt - a fugitive \n",
      "ur Govt - Diamond king\n",
      "\n",
      "Modi Govt - looking for taxi…\n",
      "------------------\n",
      "RT @Actor_Siddharth: One is Smeagol and one is Gollum. My precious! https://t.co/rlmCdHCVZO\n",
      "------------------\n",
      "RT @KapilMishra_IND: Dear @RahulGandhi\n",
      "\n",
      "Status of #NiravModi\n",
      "\n",
      "Modi Govt - a fugitive \n",
      "ur Govt - Diamond king\n",
      "\n",
      "Modi Govt - looking for taxi…\n",
      "------------------\n",
      "#NiravInLondon #NiravModi #PNBScam Found in London, when will the government bring him back to India ? Share your v… https://t.co/DFNCFjhVj2\n",
      "------------------\n",
      "RT @KapilMishra_IND: Dear @RahulGandhi\n",
      "\n",
      "Status of #NiravModi\n",
      "\n",
      "Modi Govt - a fugitive \n",
      "ur Govt - Diamond king\n",
      "\n",
      "Modi Govt - looking for taxi…\n",
      "------------------\n",
      "RT @KapilMishra_IND: Dear @RahulGandhi\n",
      "\n",
      "Status of #NiravModi\n",
      "\n",
      "Modi Govt - a fugitive \n",
      "ur Govt - Diamond king\n",
      "\n",
      "Modi Govt - looking for taxi…\n",
      "------------------\n",
      "RT @KapilMishra_IND: Dear @RahulGandhi\n",
      "\n",
      "Status of #NiravModi\n",
      "\n",
      "Modi Govt - a fugitive \n",
      "ur Govt - Diamond king\n",
      "\n",
      "Modi Govt - looking for taxi…\n",
      "------------------\n",
      "RT @KapilMishra_IND: Dear @RahulGandhi\n",
      "\n",
      "Status of #NiravModi\n",
      "\n",
      "Modi Govt - a fugitive \n",
      "ur Govt - Diamond king\n",
      "\n",
      "Modi Govt - looking for taxi…\n",
      "------------------\n",
      "RT @KapilMishra_IND: Dear @RahulGandhi\n",
      "\n",
      "Status of #NiravModi\n",
      "\n",
      "Modi Govt - a fugitive \n",
      "ur Govt - Diamond king\n",
      "\n",
      "Modi Govt - looking for taxi…\n",
      "------------------\n",
      "RT @KapilMishra_IND: Dear @RahulGandhi\n",
      "\n",
      "Status of #NiravModi\n",
      "\n",
      "Modi Govt - a fugitive \n",
      "ur Govt - Diamond king\n",
      "\n",
      "Modi Govt - looking for taxi…\n",
      "------------------\n",
      "RT @KapilMishra_IND: Dear @RahulGandhi\n",
      "\n",
      "Status of #NiravModi\n",
      "\n",
      "Modi Govt - a fugitive \n",
      "ur Govt - Diamond king\n",
      "\n",
      "Modi Govt - looking for taxi…\n",
      "------------------\n",
      "British didn't take him away. He was escorted out by our beloved Prime Minister Modi. Unless we are blinded with bh… https://t.co/Xn4wLCW10y\n",
      "------------------\n",
      "RT @DesiPoliticks: #NiravInLondon When Telegraph found #NiravModi in London, bhakts be like \"Pehchan Kaun\"\n",
      "\n",
      "Nayi Soch 😂🤭 https://t.co/Yuqyz…\n",
      "------------------\n",
      "RT @KapilMishra_IND: Dear @RahulGandhi\n",
      "\n",
      "Status of #NiravModi\n",
      "\n",
      "Modi Govt - a fugitive \n",
      "ur Govt - Diamond king\n",
      "\n",
      "Modi Govt - looking for taxi…\n",
      "------------------\n",
      "RT @KapilMishra_IND: Dear @RahulGandhi\n",
      "\n",
      "Status of #NiravModi\n",
      "\n",
      "Modi Govt - a fugitive \n",
      "ur Govt - Diamond king\n",
      "\n",
      "Modi Govt - looking for taxi…\n",
      "------------------\n",
      "RT @KapilMishra_IND: Dear @RahulGandhi\n",
      "\n",
      "Status of #NiravModi\n",
      "\n",
      "Modi Govt - a fugitive \n",
      "ur Govt - Diamond king\n",
      "\n",
      "Modi Govt - looking for taxi…\n",
      "------------------\n",
      "RT @Actor_Siddharth: One is Smeagol and one is Gollum. My precious! https://t.co/rlmCdHCVZO\n",
      "------------------\n",
      "RT @KapilMishra_IND: Dear @RahulGandhi\n",
      "\n",
      "Status of #NiravModi\n",
      "\n",
      "Modi Govt - a fugitive \n",
      "ur Govt - Diamond king\n",
      "\n",
      "Modi Govt - looking for taxi…\n",
      "------------------\n",
      "RT @KapilMishra_IND: Dear @RahulGandhi\n",
      "\n",
      "Status of #NiravModi\n",
      "\n",
      "Modi Govt - a fugitive \n",
      "ur Govt - Diamond king\n",
      "\n",
      "Modi Govt - looking for taxi…\n",
      "------------------\n"
     ]
    }
   ],
   "source": [
    "db = client.tweets\n",
    "collection = db.niravmodi\n",
    "for tweet in collection.find({'sentiment':'Positive'}):\n",
    "    print(tweet['text'])\n",
    "    print('------------------')"
   ]
  },
  {
   "cell_type": "code",
   "execution_count": null,
   "metadata": {},
   "outputs": [],
   "source": []
  }
 ],
 "metadata": {
  "kernelspec": {
   "display_name": "Python 3",
   "language": "python",
   "name": "python3"
  },
  "language_info": {
   "codemirror_mode": {
    "name": "ipython",
    "version": 3
   },
   "file_extension": ".py",
   "mimetype": "text/x-python",
   "name": "python",
   "nbconvert_exporter": "python",
   "pygments_lexer": "ipython3",
   "version": "3.6.4"
  }
 },
 "nbformat": 4,
 "nbformat_minor": 2
}
