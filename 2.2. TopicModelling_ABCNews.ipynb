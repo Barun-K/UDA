{
 "cells": [
  {
   "cell_type": "code",
   "execution_count": 1,
   "metadata": {},
   "outputs": [],
   "source": [
    "import pandas as pd\n",
    "import numpy as np\n",
    "import nltk"
   ]
  },
  {
   "cell_type": "code",
   "execution_count": 4,
   "metadata": {},
   "outputs": [
    {
     "data": {
      "text/plain": [
       "Index(['publish_date', 'headline_text'], dtype='object')"
      ]
     },
     "execution_count": 4,
     "metadata": {},
     "output_type": "execute_result"
    }
   ],
   "source": [
    "abc = pd.read_csv('abcnews.csv')\n",
    "abc.columns"
   ]
  },
  {
   "cell_type": "code",
   "execution_count": 5,
   "metadata": {},
   "outputs": [],
   "source": [
    "abc_news = abc.sample(100000)"
   ]
  },
  {
   "cell_type": "code",
   "execution_count": 6,
   "metadata": {},
   "outputs": [
    {
     "data": {
      "text/plain": [
       "(100000, 2)"
      ]
     },
     "execution_count": 6,
     "metadata": {},
     "output_type": "execute_result"
    }
   ],
   "source": [
    "abc_news.shape"
   ]
  },
  {
   "cell_type": "code",
   "execution_count": 8,
   "metadata": {},
   "outputs": [],
   "source": [
    "docs = abc['headline_text'].fillna('').str.lower()\n",
    "docs = docs.str.replace('[^a-z ]','')\n",
    "\n",
    "docs_clean = []\n",
    "stopwords = nltk.corpus.stopwords.words('english')\n",
    "#stopwords.extend(['','use','one','like','work'])\n",
    "stemmer = nltk.stem.PorterStemmer()\n",
    "for doc in docs:\n",
    "    words = doc.split(' ')\n",
    "    words_clean = [stemmer.stem(word) for word in words if word not in stopwords]\n",
    "    words_clean = [word for word in words_clean if word not in stopwords]\n",
    "    docs_clean.append(words_clean)"
   ]
  },
  {
   "cell_type": "code",
   "execution_count": 9,
   "metadata": {},
   "outputs": [
    {
     "data": {
      "text/plain": [
       "['aba', 'decid', 'commun', 'broadcast', 'licenc']"
      ]
     },
     "execution_count": 9,
     "metadata": {},
     "output_type": "execute_result"
    }
   ],
   "source": [
    "docs_clean[0][0:5]"
   ]
  },
  {
   "cell_type": "code",
   "execution_count": 10,
   "metadata": {},
   "outputs": [],
   "source": [
    "import gensim\n",
    "dictionary = gensim.corpora.Dictionary(docs_clean)"
   ]
  },
  {
   "cell_type": "code",
   "execution_count": 11,
   "metadata": {},
   "outputs": [],
   "source": [
    "docs_bow = []\n",
    "for doc in docs_clean:\n",
    "    bow = dictionary.doc2bow(doc)\n",
    "    docs_bow.append(bow)"
   ]
  },
  {
   "cell_type": "code",
   "execution_count": 14,
   "metadata": {},
   "outputs": [],
   "source": [
    "lda_model = gensim.models.LdaModel(docs_bow,\n",
    "                                  id2word = dictionary,\n",
    "                                  num_topics = 9)"
   ]
  },
  {
   "cell_type": "code",
   "execution_count": 16,
   "metadata": {},
   "outputs": [],
   "source": [
    "topics = []\n",
    "for bow in docs_bow:\n",
    "    doc2topic = pd.DataFrame(lda_model.get_document_topics(docs_bow[0]),\n",
    "            columns = ['topic_no','prob'])\n",
    "    topic = doc2topic.sort_values('prob', ascending = False)\n",
    "    topic = topic.iloc[0]['topic_no']\n",
    "    topics.append(topic)"
   ]
  },
  {
   "cell_type": "code",
   "execution_count": 17,
   "metadata": {},
   "outputs": [
    {
     "data": {
      "text/plain": [
       "[(0,\n",
       "  '0.021*\"elect\" + 0.017*\"adelaid\" + 0.015*\"australia\" + 0.015*\"day\" + 0.015*\"first\" + 0.014*\"test\" + 0.013*\"open\" + 0.013*\"win\" + 0.012*\"final\" + 0.011*\"power\"'),\n",
       " (1,\n",
       "  '0.023*\"melbourn\" + 0.014*\"say\" + 0.013*\"hospit\" + 0.012*\"plan\" + 0.012*\"labor\" + 0.010*\"polit\" + 0.010*\"new\" + 0.010*\"minist\" + 0.010*\"nt\" + 0.009*\"senat\"'),\n",
       " (2,\n",
       "  '0.115*\"\" + 0.026*\"year\" + 0.019*\"world\" + 0.012*\"nsw\" + 0.011*\"australian\" + 0.010*\"coast\" + 0.009*\"australia\" + 0.009*\"cup\" + 0.009*\"deal\" + 0.009*\"nation\"'),\n",
       " (3,\n",
       "  '0.029*\"sydney\" + 0.023*\"fire\" + 0.021*\"sa\" + 0.019*\"perth\" + 0.018*\"polic\" + 0.017*\"help\" + 0.015*\"found\" + 0.015*\"turnbul\" + 0.014*\"hous\" + 0.014*\"china\"'),\n",
       " (4,\n",
       "  '0.028*\"man\" + 0.024*\"polic\" + 0.023*\"govern\" + 0.023*\"charg\" + 0.022*\"court\" + 0.019*\"death\" + 0.017*\"murder\" + 0.016*\"one\" + 0.016*\"sex\" + 0.015*\"canberra\"'),\n",
       " (5,\n",
       "  '0.029*\"wa\" + 0.019*\"north\" + 0.017*\"donald\" + 0.016*\"die\" + 0.016*\"home\" + 0.014*\"brisban\" + 0.012*\"tasmania\" + 0.012*\"ban\" + 0.010*\"law\" + 0.010*\"take\"'),\n",
       " (6,\n",
       "  '0.038*\"trump\" + 0.027*\"us\" + 0.023*\"call\" + 0.023*\"queensland\" + 0.021*\"attack\" + 0.019*\"australia\" + 0.018*\"australian\" + 0.017*\"south\" + 0.016*\"report\" + 0.015*\"say\"'),\n",
       " (7,\n",
       "  '0.021*\"show\" + 0.018*\"live\" + 0.015*\"alleg\" + 0.012*\"marriag\" + 0.011*\"hobart\" + 0.010*\"move\" + 0.010*\"young\" + 0.010*\"men\" + 0.009*\"market\" + 0.009*\"refuge\"'),\n",
       " (8,\n",
       "  '0.014*\"famili\" + 0.010*\"fund\" + 0.010*\"life\" + 0.010*\"children\" + 0.010*\"afl\" + 0.010*\"commun\" + 0.010*\"indigen\" + 0.009*\"student\" + 0.009*\"need\" + 0.009*\"bill\"')]"
      ]
     },
     "execution_count": 17,
     "metadata": {},
     "output_type": "execute_result"
    }
   ],
   "source": [
    "lda_model.print_topics()"
   ]
  }
 ],
 "metadata": {
  "kernelspec": {
   "display_name": "Python 3",
   "language": "python",
   "name": "python3"
  },
  "language_info": {
   "codemirror_mode": {
    "name": "ipython",
    "version": 3
   },
   "file_extension": ".py",
   "mimetype": "text/x-python",
   "name": "python",
   "nbconvert_exporter": "python",
   "pygments_lexer": "ipython3",
   "version": "3.6.4"
  }
 },
 "nbformat": 4,
 "nbformat_minor": 2
}
